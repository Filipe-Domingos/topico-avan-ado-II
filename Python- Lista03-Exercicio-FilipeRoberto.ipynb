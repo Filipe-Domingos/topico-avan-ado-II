{
 "cells": [
  {
   "cell_type": "markdown",
   "metadata": {},
   "source": [
    "## Exercícios "
   ]
  },
  {
   "cell_type": "code",
   "execution_count": null,
   "metadata": {},
   "outputs": [],
   "source": [
    "# Exercício 1 - Crie uma lista de 3 elementos e calcule a terceira potência de cada elemento.\n",
    "from math import pow\n",
    "\n",
    "lista = [1, 2, 3]\n",
    "terceiraPotencia = [x ** 3 for x in lista]\n",
    "print(terceiraPotencia)"
   ]
  },
  {
   "cell_type": "code",
   "execution_count": null,
   "metadata": {},
   "outputs": [],
   "source": [
    "# Exercício 2 - Reescreva o código abaixo, usando a função map(). O resultado final deve ser o mesmo!\n",
    "\n",
    "palavras = 'A Data Science Academy oferce os melhores cursos de análise de dados do Brasil'.split()\n",
    "resultadoAtual = [[w.upper(), w.lower(), len(w)] for w in palavras]\n",
    "for i in resultadoAtual:\n",
    "    print (i)\n",
    "    \n",
    "print('----------------------função map()------------------------------------')   \n",
    "\n",
    "resultadoNovo = map(lambda w: [w.upper(), w.lower(), len(w)], palavras)\n",
    "for i in resultadoNovo:\n",
    "    print (i)"
   ]
  },
  {
   "cell_type": "code",
   "execution_count": null,
   "metadata": {},
   "outputs": [],
   "source": [
    "# Exercício 3 - Calcule a matriz transposta da matriz abaixo.\n",
    "# Caso não saiba o que é matriz transposta, visite este link: https://pt.wikipedia.org/wiki/Matriz_transposta\n",
    "# Matriz transposta é um conceito fundamental na construção de redes neurais artificiais, base de sistemas de IA.\n",
    "import numpy as n\n",
    "\n",
    "matrizAtual = [[1, 2], [3, 4], [5, 6], [7, 8]]\n",
    "matrizTransposta = [[row[i] for row in matrizAtual] for i in range(2)]\n",
    "print(matrizAtual)\n",
    "print(matrizTransposta)"
   ]
  },
  {
   "cell_type": "code",
   "execution_count": null,
   "metadata": {},
   "outputs": [],
   "source": [
    "# Exercício 4 - Crie duas funções, uma para elevar um número ao quadrado e outra para elevar ao cubo. \n",
    "# Aplique as duas funções aos elementos da lista abaixo. \n",
    "# Obs: as duas funções devem ser aplicadas simultaneamente.\n",
    "\n",
    "def quadrado(n):\n",
    "    return (n**2)\n",
    "    \n",
    "def cubo(n):\n",
    "    return (n**3)\n",
    "\n",
    "lista = [0, 1, 2, 3, 4]\n",
    "funcao = [quadrado, cubo]\n",
    "\n",
    "for i in lista:\n",
    "    potencia = map(lambda x: x(i), funcao)\n",
    "    print(list((potencia)))\n",
    "      \n",
    "# OBSERVAÇÃO:\n",
    "# Utilizando o Jupyter fica dando erro -->> TypeError: 'list' object is not callable. Executando como arquivo .py\n",
    "# via terminal, está funcionando normal. Não consegui achar explicação para isso esta acontecendo\n",
    "# Favor verficar esta observação!!!!"
   ]
  },
  {
   "cell_type": "code",
   "execution_count": null,
   "metadata": {},
   "outputs": [],
   "source": [
    "# Exercício 5 - Abaixo você encontra duas listas. Faça com que cada elemento da listaA seja elevado\n",
    "# ao elemento correspondente na listaB.\n",
    "\n",
    "listaA = [2, 3, 4]\n",
    "listaB = [10, 11, 12]\n",
    "print(list(map(pow, listaA, listaB)))\n",
    "\n",
    "# OBSERVAÇÃO:\n",
    "# Utilizando o Jupyter fica dando erro -->> TypeError: 'list' object is not callable. Executando como arquivo .py\n",
    "# via terminal, está funcionando normal. Não consegui achar explicação para isso esta acontecendo\n",
    "# Favor verficar esta observação!!!!"
   ]
  },
  {
   "cell_type": "code",
   "execution_count": null,
   "metadata": {},
   "outputs": [],
   "source": [
    "# Exercício 6 - Considerando o range de valores abaixo, use a função filter() para retornar apenas \n",
    "# os valores negativos.\n",
    "\n",
    "range(-5, 5)\n",
    "\n",
    "valor = filter(lambda x: x < 0, range(-5, 5))\n",
    "print(list(valor))\n",
    "\n",
    "# OBSERVAÇÃO:\n",
    "# Utilizando o Jupyter fica dando erro -->> TypeError: 'list' object is not callable. Executando como arquivo .py\n",
    "# via terminal, está funcionando normal. Não consegui achar explicação para isso esta acontecendo\n",
    "# Favor verficar esta observação!!!!"
   ]
  },
  {
   "cell_type": "code",
   "execution_count": null,
   "metadata": {},
   "outputs": [],
   "source": [
    "# Exercício 7 - Usando a função filter(), encontre os valores que são comuns às duas listas abaixo.\n",
    "a = [1, 2, 3, 5, 7, 9]\n",
    "b = [2, 3, 5, 6, 7, 8]\n",
    "\n",
    "valor = filter(lambda x: x in a, b)\n",
    "print(list(valor))\n",
    "\n",
    "# OBSERVAÇÃO:\n",
    "# Utilizando o Jupyter fica dando erro -->> TypeError: 'list' object is not callable. Executando como arquivo .py\n",
    "# via terminal, está funcionando normal. Não consegui achar explicação para isso esta acontecendo\n",
    "# Favor verficar esta observação!!!!"
   ]
  },
  {
   "cell_type": "code",
   "execution_count": null,
   "metadata": {},
   "outputs": [],
   "source": [
    "# Exercício 8 - Considere o código abaixo. Obtenha o mesmo resultado usando o pacote time. \n",
    "# Não conhece o pacote time? Pesquise!\n",
    "import datetime\n",
    "import time\n",
    "\n",
    "print(datetime.datetime.now().strftime(\"%d/%m/%Y %H:%M\"))\n",
    "print(time.strftime(\"%d/%m/%Y %H:%M\"))"
   ]
  },
  {
   "cell_type": "code",
   "execution_count": null,
   "metadata": {},
   "outputs": [],
   "source": [
    "# Exercício 9 - Considere os dois dicionários abaixo. \n",
    "# Crie um terceiro dicionário com as chaves do dicionário 1 e os valores do dicionário 2.\n",
    "dicionario1 = {'a': 1, 'b': 2}\n",
    "dicionario2 = {'c': 4, 'd': 5}\n",
    "\n",
    "dicionario3 = dict(zip(dicionario1.keys(), dicionario2.values()))\n",
    "print(dicionario1)\n",
    "print(dicionario2)\n",
    "print(dicionario3)"
   ]
  },
  {
   "cell_type": "code",
   "execution_count": null,
   "metadata": {},
   "outputs": [],
   "source": [
    "# Exercício 10 - Considere a lista abaixo e retorne apenas os elementos cujo índice for maior que 5.\n",
    "lista = ['a', 'b', 'c', 'd', 'e', 'f', 'g', 'h']\n",
    "\n",
    "for i,item in enumerate(lista):\n",
    "    if i > 5:\n",
    "        print(item)"
   ]
  },
  {
   "cell_type": "markdown",
   "metadata": {},
   "source": [
    "# Fim"
   ]
  }
 ],
 "metadata": {
  "kernelspec": {
   "display_name": "Python 3",
   "language": "python",
   "name": "python3"
  },
  "language_info": {
   "codemirror_mode": {
    "name": "ipython",
    "version": 3
   },
   "file_extension": ".py",
   "mimetype": "text/x-python",
   "name": "python",
   "nbconvert_exporter": "python",
   "pygments_lexer": "ipython3",
   "version": "3.7.3"
  }
 },
 "nbformat": 4,
 "nbformat_minor": 1
}
