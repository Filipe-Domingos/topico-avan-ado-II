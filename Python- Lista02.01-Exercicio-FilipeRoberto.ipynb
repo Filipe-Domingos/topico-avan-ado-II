{
 "cells": [
  {
   "cell_type": "markdown",
   "metadata": {},
   "source": [
    "# Introdução à Programação em Python\n",
    "## (4) Exercícios programação funcional e multiparadigma\n"
   ]
  },
  {
   "cell_type": "markdown",
   "metadata": {},
   "source": [
    "(versão de 27 de Fevereiro de 2019)"
   ]
  },
  {
   "cell_type": "markdown",
   "metadata": {},
   "source": [
    "## 1 - Programação funcional"
   ]
  },
  {
   "cell_type": "markdown",
   "metadata": {},
   "source": [
    "Nos exercícios seguintes não deve utilizar recursão, nem composição iterativa, nem composição sequencial de comandos. As funções devem ser definidas utilizando as primitivas `map`, `reduce`, `all`, `any`, `filter`, `nest`, `fixedpoint` podendo também recorrer a outras funções sobre listas que considere necessárias, nomeadamente definições por compreensão. Recorde que para poder o combinador `reduce` precisa de o importar:"
   ]
  },
  {
   "cell_type": "code",
   "execution_count": 1,
   "metadata": {},
   "outputs": [],
   "source": [
    "from functools import reduce"
   ]
  },
  {
   "cell_type": "markdown",
   "metadata": {},
   "source": [
    "e que os combinadores `nest` e `fixedpoint` foram definidos no *Notebook 07* sobre Programação Funcional e comparação entre paradigmas de programação:"
   ]
  },
  {
   "cell_type": "code",
   "execution_count": 2,
   "metadata": {},
   "outputs": [],
   "source": [
    "def nest(f,n,x):\n",
    "    return reduce(lambda a,b:f(a),range(n),x)"
   ]
  },
  {
   "cell_type": "code",
   "execution_count": 3,
   "metadata": {},
   "outputs": [],
   "source": [
    "def fixedpoint(f,x):\n",
    "    while x!=f(x):\n",
    "        x=f(x)\n",
    "    return x"
   ]
  },
  {
   "cell_type": "markdown",
   "metadata": {},
   "source": [
    "**1\\.** Defina a função `soma_nat`  que recebe como argumento um número natural $n$ e devolve a soma de todos os números naturais até $n$."
   ]
  },
  {
   "cell_type": "code",
   "execution_count": 4,
   "metadata": {},
   "outputs": [
    {
     "data": {
      "text/plain": [
       "55"
      ]
     },
     "execution_count": 4,
     "metadata": {},
     "output_type": "execute_result"
    }
   ],
   "source": [
    "def soma_nat(x):\n",
    "    lista = []\n",
    "    for i in range(1,x+1):\n",
    "        lista.append(i)\n",
    "        \n",
    "    return reduce(lambda x,y: x+y, lista)\n",
    "\n",
    "soma_nat(10)"
   ]
  },
  {
   "cell_type": "markdown",
   "metadata": {},
   "source": [
    "**2\\.** Defina a função `quadrados`  que recebe como argumento um número natural $n$  devolve a lista dos  $n$  primeiros quadrados perfeitos."
   ]
  },
  {
   "cell_type": "code",
   "execution_count": 5,
   "metadata": {},
   "outputs": [
    {
     "data": {
      "text/plain": [
       "[1, 4, 9, 16, 25]"
      ]
     },
     "execution_count": 5,
     "metadata": {},
     "output_type": "execute_result"
    }
   ],
   "source": [
    "def quadrados(y):\n",
    "    return list(map(lambda x: x*x, range(1,y+1)))\n",
    "\n",
    "quadrados(5)"
   ]
  },
  {
   "cell_type": "markdown",
   "metadata": {},
   "source": [
    "**3\\.** Defina a função `quadrados_inv`  que recebe como argumento um número natural $n$  devolve a lista dos  $n$  primeiros quadrados perfeitos, por ordem decrescente."
   ]
  },
  {
   "cell_type": "code",
   "execution_count": 6,
   "metadata": {},
   "outputs": [
    {
     "data": {
      "text/plain": [
       "[25, 16, 9, 4, 1]"
      ]
     },
     "execution_count": 6,
     "metadata": {},
     "output_type": "execute_result"
    }
   ],
   "source": [
    "def quadrados_inv(y):\n",
    "    return list(map(lambda x: x*x, range(y,0,-1)))\n",
    "\n",
    "quadrados_inv(5)"
   ]
  },
  {
   "cell_type": "markdown",
   "metadata": {},
   "source": [
    "**4\\.** Defina a função `num_perf` que recebe como argumento um número inteiro positivo e devolve `True` se esse número for um número perfeito e `False` em caso contrário. Recorde que um número perfeito é um número natural que é igual à soma de todos os seus divisores próprios, isto é, a soma de todos os divisores excluindo o próprio número. Pode se assim o entender, definir funções auxiliares, desde que definidas no paradigma funcional."
   ]
  },
  {
   "cell_type": "code",
   "execution_count": 7,
   "metadata": {},
   "outputs": [
    {
     "data": {
      "text/plain": [
       "True"
      ]
     },
     "execution_count": 7,
     "metadata": {},
     "output_type": "execute_result"
    }
   ],
   "source": [
    "def num_perf(x):\n",
    "    lista = []\n",
    "    cont = x-1\n",
    "    while(cont > 0):\n",
    "        if x%cont == 0:\n",
    "            lista.append(cont)\n",
    "        cont = cont - 1\n",
    "    \n",
    "    result = reduce(lambda x,y: x + y, lista)\n",
    "    if result == x:\n",
    "        return True\n",
    "    else: False\n",
    "\n",
    "num_perf(6)"
   ]
  },
  {
   "cell_type": "code",
   "execution_count": 9,
   "metadata": {},
   "outputs": [],
   "source": [
    "num_perf(5)"
   ]
  },
  {
   "cell_type": "markdown",
   "metadata": {},
   "source": [
    "**5\\.** Defina a função `triangulo` que recebe como argumento um número natural $n$  e devolve uma lista em que o primeiro elemento é a lista `[1]`, o segundo elemento é a lista `[1, 2]` e assim sucessivamente até a $n$."
   ]
  },
  {
   "cell_type": "code",
   "execution_count": null,
   "metadata": {},
   "outputs": [],
   "source": [
    "Não consegui!!\n",
    "triangulo(4)"
   ]
  },
  {
   "cell_type": "markdown",
   "metadata": {},
   "source": [
    "**6\\.** Defina a função `wierd_prod` que recebe como argumento uma lista de números inteiros e devolve o produto do primeiro elemento, pelo quadrado do segundo, pelo cubo do terceiro, e assim sucessivamente."
   ]
  },
  {
   "cell_type": "code",
   "execution_count": null,
   "metadata": {},
   "outputs": [],
   "source": [
    "Não consegui!!\n",
    "weird_prod([5,2,4])"
   ]
  },
  {
   "cell_type": "code",
   "execution_count": null,
   "metadata": {},
   "outputs": [],
   "source": [
    "Não consegui!!\n",
    "weird_prod([])"
   ]
  }
 ],
 "metadata": {
  "anaconda-cloud": {},
  "kernelspec": {
   "display_name": "Python 3",
   "language": "python",
   "name": "python3"
  },
  "language_info": {
   "codemirror_mode": {
    "name": "ipython",
    "version": 3
   },
   "file_extension": ".py",
   "mimetype": "text/x-python",
   "name": "python",
   "nbconvert_exporter": "python",
   "pygments_lexer": "ipython3",
   "version": "3.7.3"
  }
 },
 "nbformat": 4,
 "nbformat_minor": 1
}
