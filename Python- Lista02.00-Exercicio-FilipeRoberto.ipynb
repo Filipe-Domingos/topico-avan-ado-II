{
 "cells": [
  {
   "cell_type": "markdown",
   "metadata": {},
   "source": [
    "# Introdução à Programação em Python\n",
    "## (3) Exercícios sobre programação imperativa\n",
    "\n"
   ]
  },
  {
   "cell_type": "markdown",
   "metadata": {},
   "source": [
    "Todas as funções devem definidas *imperativamente* e devem ser testadas para garantir que funcionam como é esperado. Cada exercício sobre listas pode (e deve) ser resolvido de várias maneiras:\n",
    "- percorrendo as posições da lista com uma variável de progresso e usando a função `len` para determinar a guarda do ciclo\n",
    "- utilizando variável de progresso em lista"
   ]
  },
  {
   "cell_type": "markdown",
   "metadata": {},
   "source": [
    "**1\\.** Defina a função `soma_nat` que recebe como argumento um número natural $n$ e devolve a soma de todos os números naturais até $n$."
   ]
  },
  {
   "cell_type": "code",
   "execution_count": null,
   "metadata": {},
   "outputs": [],
   "source": [
    "def soma_nat(n):\n",
    "    if n == 1:\n",
    "        return 1\n",
    "    else:\n",
    "        return n + soma_nat(n-1)\n",
    "print(soma_nat(5))"
   ]
  },
  {
   "cell_type": "markdown",
   "metadata": {},
   "source": [
    " **2\\.** Defina a função `prim_alg` que recebe como argumento um número natural e devolve o primeiro algarismo (o mais significativo) na representação decimal de $n$."
   ]
  },
  {
   "cell_type": "code",
   "execution_count": null,
   "metadata": {},
   "outputs": [],
   "source": [
    "def prim_alg(n):\n",
    "    return print(n[0])\n",
    "\n",
    "prim_alg(\"5649\")"
   ]
  },
  {
   "cell_type": "code",
   "execution_count": null,
   "metadata": {},
   "outputs": [],
   "source": [
    "prim_alg(\"7\")"
   ]
  },
  {
   "cell_type": "markdown",
   "metadata": {},
   "source": [
    "**3\\.** Defina a função `quadrados_inv` que recebe como argumento um número natural $n$ e devolve a lista dos quadrados perfeitos até $n$, por ordem decrescente."
   ]
  },
  {
   "cell_type": "code",
   "execution_count": null,
   "metadata": {},
   "outputs": [],
   "source": [
    "def quadrados_inv(x):\n",
    "    lista = []\n",
    "    while x > 0:\n",
    "        lista.append(x*x)\n",
    "        x = x - 1\n",
    "    return lista\n",
    "\n",
    "quadrados_inv(6)"
   ]
  },
  {
   "cell_type": "markdown",
   "metadata": {},
   "source": [
    "**4\\.** Defina a função `prod_lista` que recebe como argumento uma lista de inteiros e devolve o produto dos seus elementos."
   ]
  },
  {
   "cell_type": "code",
   "execution_count": null,
   "metadata": {},
   "outputs": [],
   "source": [
    "def prod_lista(lista):\n",
    "        return lista[len(lista) - 1] * prod_lista(lista[:-1]) if len(lista) > 0 else 1\n",
    "\n",
    "print(prod_lista([1,2,3,4,5,6]))"
   ]
  },
  {
   "cell_type": "markdown",
   "metadata": {},
   "source": [
    "**5\\.** Defina a função `contem_parQ` que recebe como argumento uma lista de números inteiros $w$ e devolve `True` se $w$ contém um número par e `False` em caso contrário."
   ]
  },
  {
   "cell_type": "code",
   "execution_count": null,
   "metadata": {},
   "outputs": [],
   "source": [
    "def contem_parQ(lista):\n",
    "    if len(lista) == 0:\n",
    "        return False\n",
    "    else:\n",
    "        a = lista.pop()\n",
    "        if a%2 ==0:\n",
    "            return True\n",
    "        else:\n",
    "            return contem_parQ(lista)\n",
    "\n",
    "print(contem_parQ([2,3,1,2,3,4]))"
   ]
  },
  {
   "cell_type": "markdown",
   "metadata": {},
   "source": [
    "**6\\.** Defina a função `escolhe_pares` que recebe como argumento uma lista de números inteiros $w$ e devolve a lista dos elementos pares de $w$."
   ]
  },
  {
   "cell_type": "code",
   "execution_count": null,
   "metadata": {},
   "outputs": [],
   "source": [
    "def escolhe_pares(lista):\n",
    "    vetor = []\n",
    "    for i in lista:\n",
    "        if i%2 == 0:\n",
    "            vetor.append(i)\n",
    "    return vetor\n",
    "\n",
    "escolhe_pares([1,2,3,4,4,2,6,8,9])"
   ]
  },
  {
   "cell_type": "code",
   "execution_count": null,
   "metadata": {},
   "outputs": [],
   "source": [
    "escolhe_pares([])"
   ]
  },
  {
   "cell_type": "code",
   "execution_count": null,
   "metadata": {},
   "outputs": [],
   "source": [
    "escolhe_pares([1,3,5,7,9])"
   ]
  },
  {
   "cell_type": "markdown",
   "metadata": {},
   "source": [
    "**7\\.** Defina a função `retira_negativos` que recebe como argumento uma lista de números inteiros $w$ e devolve a lista resultante de retirar todos os números negativos de $w$."
   ]
  },
  {
   "cell_type": "code",
   "execution_count": null,
   "metadata": {},
   "outputs": [],
   "source": [
    "def retira_negativos(lista):\n",
    "    vetor = []\n",
    "    for i in lista:\n",
    "        if(i >= 0):\n",
    "            vetor.append(i)\n",
    "    return vetor\n",
    "\n",
    "retira_negativos([1,-2,-3,7,0])"
   ]
  },
  {
   "cell_type": "markdown",
   "metadata": {},
   "source": [
    "**8\\.** Defina a função `posicoesMaximo` que recebe como argumento uma lista de inteiros $w$ e devolve a lista das posiçoes onde ocorre maior elemento."
   ]
  },
  {
   "cell_type": "code",
   "execution_count": null,
   "metadata": {},
   "outputs": [],
   "source": [
    "def posicoesMaximo(lista):\n",
    "    vetor = []\n",
    "    \n",
    "    if lista != []:\n",
    "        maior = lista[0]\n",
    "        for i,j in enumerate(lista):\n",
    "            if j > maior:\n",
    "                maior = j\n",
    "            \n",
    "        for i,j in enumerate(lista):\n",
    "            if j == maior:\n",
    "                vetor.append(i)\n",
    "        return vetor\n",
    "    else:\n",
    "        return vetor\n",
    "\n",
    "posicoesMaximo([1,2,3,2,1,2,3])"
   ]
  },
  {
   "cell_type": "code",
   "execution_count": null,
   "metadata": {},
   "outputs": [],
   "source": [
    "posicoesMaximo([])"
   ]
  },
  {
   "cell_type": "markdown",
   "metadata": {},
   "source": [
    "**9\\.** Defina a função `car_pares` que recebe como argumento uma lista de números inteiros $w$ e devolve uma lista com `True` nas posições onde ocorre em $w$ um número par e `False` nas outras."
   ]
  },
  {
   "cell_type": "code",
   "execution_count": null,
   "metadata": {},
   "outputs": [],
   "source": [
    "def car_pares(lista):\n",
    "    vetor = []\n",
    "    for i,j in enumerate(lista):\n",
    "        if j%2 == 0:\n",
    "            vetor.insert(i,True)\n",
    "        else:\n",
    "            vetor.insert(i,False)\n",
    "    return vetor\n",
    "\n",
    "car_pares([2,3,4,3,2,2])"
   ]
  },
  {
   "cell_type": "code",
   "execution_count": null,
   "metadata": {},
   "outputs": [],
   "source": [
    "car_pares([3,3,3])"
   ]
  },
  {
   "cell_type": "code",
   "execution_count": null,
   "metadata": {},
   "outputs": [],
   "source": [
    "car_pares([])"
   ]
  },
  {
   "cell_type": "markdown",
   "metadata": {},
   "source": [
    "**10\\.** Defina a função `separaMult3e5` que recebe como argumento uma  lista de números inteiros $w$ e devolve um par (uma lista) formado por duas listas: a dos múltiplos de 3 que ocorrem em $w$ e a dos múltiplos de 5 que ocorrem em $w$."
   ]
  },
  {
   "cell_type": "code",
   "execution_count": null,
   "metadata": {},
   "outputs": [],
   "source": [
    "def separaMult3e5(lista):\n",
    "    vetor = []\n",
    "    l3 = []\n",
    "    l5 = []\n",
    "    \n",
    "    for i in lista:\n",
    "        if i%3 == 0:\n",
    "            l3.append(i)\n",
    "        if i%5 == 0:\n",
    "            l5.append(i)\n",
    "    \n",
    "    vetor.append(l3)\n",
    "    vetor.append(l5)\n",
    "    return vetor\n",
    "\n",
    "separaMult3e5([1,2,3,4,5,9,15])"
   ]
  },
  {
   "cell_type": "code",
   "execution_count": null,
   "metadata": {},
   "outputs": [],
   "source": [
    "separaMult3e5([1,3,9,12,4,2])"
   ]
  },
  {
   "cell_type": "markdown",
   "metadata": {},
   "source": [
    "**11\\.** Defina a função `intercala` que recebe como argumentos duas listas $w1$ e $w2$ e devolve a lista resultante de intercalar os elementos de $w1$ com os de $w2$."
   ]
  },
  {
   "cell_type": "code",
   "execution_count": null,
   "metadata": {},
   "outputs": [],
   "source": [
    "def intercala(lista1,lista2):\n",
    "    vetor = []\n",
    "    \n",
    "    if(lista1 != [] and lista2 != []):\n",
    "        for j,a in enumerate(lista1):\n",
    "            vetor.append(a)\n",
    "            for i,b in enumerate(lista2):\n",
    "                if i == j:\n",
    "                    vetor.append(b)\n",
    "    elif(lista1 == []):\n",
    "        for i in lista2:\n",
    "            vetor.append(i)\n",
    "    elif(lista2 == []):\n",
    "        for i in lista1:\n",
    "            vetor.append(i)\n",
    "        \n",
    "    return vetor \n",
    "\n",
    "intercala([1,3,5],[2,4,6])"
   ]
  },
  {
   "cell_type": "code",
   "execution_count": null,
   "metadata": {},
   "outputs": [],
   "source": [
    "intercala([],[1,2,3])"
   ]
  },
  {
   "cell_type": "code",
   "execution_count": null,
   "metadata": {},
   "outputs": [],
   "source": [
    "intercala([1,3,5],[2,4])"
   ]
  }
 ],
 "metadata": {
  "anaconda-cloud": {},
  "kernelspec": {
   "display_name": "Python 3",
   "language": "python",
   "name": "python3"
  },
  "language_info": {
   "codemirror_mode": {
    "name": "ipython",
    "version": 3
   },
   "file_extension": ".py",
   "mimetype": "text/x-python",
   "name": "python",
   "nbconvert_exporter": "python",
   "pygments_lexer": "ipython3",
   "version": "3.7.3"
  }
 },
 "nbformat": 4,
 "nbformat_minor": 1
}
